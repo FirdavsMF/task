{
 "cells": [
  {
   "cell_type": "markdown",
   "metadata": {
    "id": "v56MXEKRpdj4"
   },
   "source": [
    "# Синтаксис Python. Домашнее Задание. Pro\n",
    "\n",
    "*2 балла за каждую задачу*"
   ]
  },
  {
   "cell_type": "markdown",
   "metadata": {
    "id": "g9pd3inChdqC"
   },
   "source": [
    "### Задача 1\n",
    "\n",
    "Выведите на экран следующий паттерн:\n",
    "\n",
    "@\n",
    "\n",
    "@ @\n",
    "\n",
    "@ @ @\n",
    "\n",
    "@ @ @ @ @\n",
    "\n",
    "При выполнении задания ОБЯЗАТЕЛЬНО! использование циклов. \n",
    "Количество выполняемых циклов рекомендуется записать как отдельную переменную"
   ]
  },
  {
   "cell_type": "markdown",
   "metadata": {
    "id": "_anmPG8lqDql"
   },
   "source": [
    "**Решение:**"
   ]
  },
  {
   "cell_type": "code",
   "execution_count": null,
   "metadata": {
    "id": "eHA_26PRqDqm"
   },
   "outputs": [],
   "source": []
  },
  {
   "cell_type": "markdown",
   "metadata": {
    "id": "Vh7SqVB5hdqL"
   },
   "source": [
    "### Задача 2\n",
    "\n",
    "\n",
    "Выведите на экран следующий паттерн:\n",
    "\n",
    "1\n",
    "\n",
    "2 2 \n",
    "\n",
    "3 3 3 \n",
    "\n",
    "4 4 4 4 \n",
    "\n",
    "5 5 5 5 5\n",
    "\n",
    "6 6 6 6\n",
    "\n",
    "7 7 7\n",
    "\n",
    "8 8\n",
    "\n",
    "9\n",
    "\n",
    "Обратите внимание на пробел между символами. \n",
    "При выполнении задания ОБЯЗАТЕЛЬНО! использование циклов. "
   ]
  },
  {
   "cell_type": "markdown",
   "metadata": {
    "id": "k3Om_nPxuOWF"
   },
   "source": [
    "**Решение:**"
   ]
  },
  {
   "cell_type": "code",
   "execution_count": null,
   "metadata": {
    "id": "mrfBGAx8uOWH"
   },
   "outputs": [],
   "source": []
  },
  {
   "cell_type": "markdown",
   "metadata": {
    "id": "IMoF_J7AhdqT"
   },
   "source": [
    "### Задача 3\n",
    "\n",
    "\n",
    "Используя цикл while, выведите на экран таблицу умножения для числа 7.\n",
    "\n",
    "**Пример**\n",
    "    \n",
    "Для числа 5 выдача выглядит так:\n",
    "    \n",
    "5 * 1 = 5\n",
    "\n",
    "5 * 2 = 10\n",
    "\n",
    "5 * 3 = 15\n",
    "\n",
    "5 * 4 = 20\n",
    "\n",
    "5 * 5 = 25\n",
    "\n",
    "...\n",
    "\n",
    "5 * 9 = 45"
   ]
  },
  {
   "cell_type": "markdown",
   "metadata": {
    "id": "cZ7X_QtSuOnz"
   },
   "source": [
    "**Решение:**"
   ]
  },
  {
   "cell_type": "code",
   "execution_count": null,
   "metadata": {
    "id": "K-6uXrJVuOn0"
   },
   "outputs": [],
   "source": []
  },
  {
   "cell_type": "markdown",
   "metadata": {
    "id": "rvEbKNeIhdqY"
   },
   "source": [
    "### Задача 4\n",
    "\n",
    "\n",
    "\n",
    "Представьте, что вы подбрасываете два кубика одновременно. Считайте с входящей строки два целых числа d1 и d2. Проверьте, соответсуют ли введенные числа интервалу значений для кубика. Если нет, то выведите на экран строку \"Ошибка! Значение на кубике (1 или 2, вставьте подходящее значение) не входит в интервал [1, 6]\". В противном случае посчитайте сумму выпавших значений. Если сумма равна 7 или 11, выведите на экран \"Это успех!!!\". Если сумма равна 2, 3 или 12, то выведите на экран \"Я опростоволосился :(\" Во всех остальных случаях выведите на экран сумму значений.\n"
   ]
  },
  {
   "cell_type": "markdown",
   "metadata": {
    "id": "LpsSV2UCuO5G"
   },
   "source": [
    "**Решение:**"
   ]
  },
  {
   "cell_type": "code",
   "execution_count": null,
   "metadata": {
    "id": "H8F17i8uuO5H"
   },
   "outputs": [],
   "source": []
  },
  {
   "cell_type": "markdown",
   "metadata": {
    "id": "OTSU9QTLhdqe"
   },
   "source": [
    "### Задача 5\n",
    "\n",
    "\n",
    "Напишите код, который ищет все числа в интервале от 3000 до 4300 включительно, делящиеся на 11, но не делящиеся на 5. Выведите на экран все найденные числа."
   ]
  },
  {
   "cell_type": "markdown",
   "metadata": {
    "id": "LP2a2huguPMf"
   },
   "source": [
    "**Решение:**"
   ]
  },
  {
   "cell_type": "code",
   "execution_count": null,
   "metadata": {
    "id": "lFNZisdcuPMg"
   },
   "outputs": [],
   "source": []
  }
 ],
 "metadata": {
  "colab": {
   "provenance": []
  },
  "kernelspec": {
   "display_name": "Python 3 (ipykernel)",
   "language": "python",
   "name": "python3"
  },
  "language_info": {
   "codemirror_mode": {
    "name": "ipython",
    "version": 3
   },
   "file_extension": ".py",
   "mimetype": "text/x-python",
   "name": "python",
   "nbconvert_exporter": "python",
   "pygments_lexer": "ipython3",
   "version": "3.9.12"
  }
 },
 "nbformat": 4,
 "nbformat_minor": 1
}
